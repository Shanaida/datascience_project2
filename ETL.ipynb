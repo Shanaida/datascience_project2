{
 "cells": [
  {
   "cell_type": "code",
   "execution_count": 1,
   "metadata": {},
   "outputs": [],
   "source": [
    "import pymongo\n",
    "import datetime\n",
    "import pandas as pd"
   ]
  },
  {
   "cell_type": "code",
   "execution_count": 2,
   "metadata": {},
   "outputs": [],
   "source": [
    "gold_data = \"resources/GOLD.csv\""
   ]
  },
  {
   "cell_type": "code",
   "execution_count": 3,
   "metadata": {},
   "outputs": [],
   "source": [
    "gold_df = pd.read_csv(gold_data)"
   ]
  },
  {
   "cell_type": "code",
   "execution_count": 4,
   "metadata": {},
   "outputs": [
    {
     "data": {
      "text/html": [
       "<div>\n",
       "<style scoped>\n",
       "    .dataframe tbody tr th:only-of-type {\n",
       "        vertical-align: middle;\n",
       "    }\n",
       "\n",
       "    .dataframe tbody tr th {\n",
       "        vertical-align: top;\n",
       "    }\n",
       "\n",
       "    .dataframe thead th {\n",
       "        text-align: right;\n",
       "    }\n",
       "</style>\n",
       "<table border=\"1\" class=\"dataframe\">\n",
       "  <thead>\n",
       "    <tr style=\"text-align: right;\">\n",
       "      <th></th>\n",
       "      <th>Date</th>\n",
       "      <th>Open</th>\n",
       "      <th>High</th>\n",
       "      <th>Low</th>\n",
       "      <th>Close</th>\n",
       "      <th>Adj Close</th>\n",
       "      <th>Volume</th>\n",
       "    </tr>\n",
       "  </thead>\n",
       "  <tbody>\n",
       "    <tr>\n",
       "      <th>0</th>\n",
       "      <td>1996-01-01</td>\n",
       "      <td>26.625</td>\n",
       "      <td>30.125</td>\n",
       "      <td>26.625</td>\n",
       "      <td>29.375</td>\n",
       "      <td>20.754421</td>\n",
       "      <td>41074000</td>\n",
       "    </tr>\n",
       "    <tr>\n",
       "      <th>1</th>\n",
       "      <td>1996-02-01</td>\n",
       "      <td>29.875</td>\n",
       "      <td>32.875</td>\n",
       "      <td>29.875</td>\n",
       "      <td>30.250</td>\n",
       "      <td>21.372637</td>\n",
       "      <td>46490100</td>\n",
       "    </tr>\n",
       "    <tr>\n",
       "      <th>2</th>\n",
       "      <td>1996-03-01</td>\n",
       "      <td>30.250</td>\n",
       "      <td>32.000</td>\n",
       "      <td>28.250</td>\n",
       "      <td>30.375</td>\n",
       "      <td>21.460953</td>\n",
       "      <td>36573500</td>\n",
       "    </tr>\n",
       "    <tr>\n",
       "      <th>3</th>\n",
       "      <td>1996-04-01</td>\n",
       "      <td>30.250</td>\n",
       "      <td>32.125</td>\n",
       "      <td>29.375</td>\n",
       "      <td>30.625</td>\n",
       "      <td>21.637589</td>\n",
       "      <td>34821300</td>\n",
       "    </tr>\n",
       "    <tr>\n",
       "      <th>4</th>\n",
       "      <td>1996-05-01</td>\n",
       "      <td>30.625</td>\n",
       "      <td>32.125</td>\n",
       "      <td>29.750</td>\n",
       "      <td>31.500</td>\n",
       "      <td>22.255806</td>\n",
       "      <td>27064600</td>\n",
       "    </tr>\n",
       "  </tbody>\n",
       "</table>\n",
       "</div>"
      ],
      "text/plain": [
       "         Date    Open    High     Low   Close  Adj Close    Volume\n",
       "0  1996-01-01  26.625  30.125  26.625  29.375  20.754421  41074000\n",
       "1  1996-02-01  29.875  32.875  29.875  30.250  21.372637  46490100\n",
       "2  1996-03-01  30.250  32.000  28.250  30.375  21.460953  36573500\n",
       "3  1996-04-01  30.250  32.125  29.375  30.625  21.637589  34821300\n",
       "4  1996-05-01  30.625  32.125  29.750  31.500  22.255806  27064600"
      ]
     },
     "execution_count": 4,
     "metadata": {},
     "output_type": "execute_result"
    }
   ],
   "source": [
    "gold_df.head()"
   ]
  },
  {
   "cell_type": "code",
   "execution_count": 5,
   "metadata": {},
   "outputs": [],
   "source": [
    "gold_df['index'] = gold_df.apply(lambda row:\"Gold\",axis =1)"
   ]
  },
  {
   "cell_type": "code",
   "execution_count": 6,
   "metadata": {},
   "outputs": [
    {
     "data": {
      "text/html": [
       "<div>\n",
       "<style scoped>\n",
       "    .dataframe tbody tr th:only-of-type {\n",
       "        vertical-align: middle;\n",
       "    }\n",
       "\n",
       "    .dataframe tbody tr th {\n",
       "        vertical-align: top;\n",
       "    }\n",
       "\n",
       "    .dataframe thead th {\n",
       "        text-align: right;\n",
       "    }\n",
       "</style>\n",
       "<table border=\"1\" class=\"dataframe\">\n",
       "  <thead>\n",
       "    <tr style=\"text-align: right;\">\n",
       "      <th></th>\n",
       "      <th>Date</th>\n",
       "      <th>Open</th>\n",
       "      <th>High</th>\n",
       "      <th>Low</th>\n",
       "      <th>Close</th>\n",
       "      <th>Adj Close</th>\n",
       "      <th>Volume</th>\n",
       "      <th>index</th>\n",
       "    </tr>\n",
       "  </thead>\n",
       "  <tbody>\n",
       "    <tr>\n",
       "      <th>0</th>\n",
       "      <td>1996-01-01</td>\n",
       "      <td>26.625</td>\n",
       "      <td>30.125</td>\n",
       "      <td>26.625</td>\n",
       "      <td>29.375</td>\n",
       "      <td>20.754421</td>\n",
       "      <td>41074000</td>\n",
       "      <td>Gold</td>\n",
       "    </tr>\n",
       "    <tr>\n",
       "      <th>1</th>\n",
       "      <td>1996-02-01</td>\n",
       "      <td>29.875</td>\n",
       "      <td>32.875</td>\n",
       "      <td>29.875</td>\n",
       "      <td>30.250</td>\n",
       "      <td>21.372637</td>\n",
       "      <td>46490100</td>\n",
       "      <td>Gold</td>\n",
       "    </tr>\n",
       "    <tr>\n",
       "      <th>2</th>\n",
       "      <td>1996-03-01</td>\n",
       "      <td>30.250</td>\n",
       "      <td>32.000</td>\n",
       "      <td>28.250</td>\n",
       "      <td>30.375</td>\n",
       "      <td>21.460953</td>\n",
       "      <td>36573500</td>\n",
       "      <td>Gold</td>\n",
       "    </tr>\n",
       "    <tr>\n",
       "      <th>3</th>\n",
       "      <td>1996-04-01</td>\n",
       "      <td>30.250</td>\n",
       "      <td>32.125</td>\n",
       "      <td>29.375</td>\n",
       "      <td>30.625</td>\n",
       "      <td>21.637589</td>\n",
       "      <td>34821300</td>\n",
       "      <td>Gold</td>\n",
       "    </tr>\n",
       "    <tr>\n",
       "      <th>4</th>\n",
       "      <td>1996-05-01</td>\n",
       "      <td>30.625</td>\n",
       "      <td>32.125</td>\n",
       "      <td>29.750</td>\n",
       "      <td>31.500</td>\n",
       "      <td>22.255806</td>\n",
       "      <td>27064600</td>\n",
       "      <td>Gold</td>\n",
       "    </tr>\n",
       "  </tbody>\n",
       "</table>\n",
       "</div>"
      ],
      "text/plain": [
       "         Date    Open    High     Low   Close  Adj Close    Volume index\n",
       "0  1996-01-01  26.625  30.125  26.625  29.375  20.754421  41074000  Gold\n",
       "1  1996-02-01  29.875  32.875  29.875  30.250  21.372637  46490100  Gold\n",
       "2  1996-03-01  30.250  32.000  28.250  30.375  21.460953  36573500  Gold\n",
       "3  1996-04-01  30.250  32.125  29.375  30.625  21.637589  34821300  Gold\n",
       "4  1996-05-01  30.625  32.125  29.750  31.500  22.255806  27064600  Gold"
      ]
     },
     "execution_count": 6,
     "metadata": {},
     "output_type": "execute_result"
    }
   ],
   "source": [
    "gold_df.head()"
   ]
  },
  {
   "cell_type": "code",
   "execution_count": 7,
   "metadata": {},
   "outputs": [],
   "source": [
    "from pymongo import MongoClient\n",
    "client = MongoClient()"
   ]
  },
  {
   "cell_type": "code",
   "execution_count": 8,
   "metadata": {},
   "outputs": [],
   "source": [
    "# The default port used by MongoDB is 27017\n",
    "# https://docs.mongodb.com/manual/reference/default-mongodb-port/\n",
    "conn = 'mongodb://localhost:27017'\n",
    "client = pymongo.MongoClient(conn)\n"
   ]
  },
  {
   "cell_type": "code",
   "execution_count": 9,
   "metadata": {},
   "outputs": [],
   "source": [
    "db1 = client.gold\n"
   ]
  },
  {
   "cell_type": "code",
   "execution_count": 10,
   "metadata": {},
   "outputs": [],
   "source": [
    "collection_gold = db1.gold_data"
   ]
  },
  {
   "cell_type": "code",
   "execution_count": 11,
   "metadata": {},
   "outputs": [
    {
     "data": {
      "text/plain": [
       "[{'Date': '1996-01-01',\n",
       "  'Open': 26.625,\n",
       "  'High': 30.125,\n",
       "  'Low': 26.625,\n",
       "  'Close': 29.375,\n",
       "  'Adj Close': 20.754421,\n",
       "  'Volume': 41074000,\n",
       "  'index': 'Gold'},\n",
       " {'Date': '1996-02-01',\n",
       "  'Open': 29.875,\n",
       "  'High': 32.875,\n",
       "  'Low': 29.875,\n",
       "  'Close': 30.25,\n",
       "  'Adj Close': 21.372637,\n",
       "  'Volume': 46490100,\n",
       "  'index': 'Gold'}]"
      ]
     },
     "execution_count": 11,
     "metadata": {},
     "output_type": "execute_result"
    }
   ],
   "source": [
    "gold_dict = gold_df.to_dict('records')\n",
    "gold_dict[:2]"
   ]
  },
  {
   "cell_type": "code",
   "execution_count": 12,
   "metadata": {},
   "outputs": [
    {
     "data": {
      "text/plain": [
       "<pymongo.results.InsertManyResult at 0x7f832deaf190>"
      ]
     },
     "execution_count": 12,
     "metadata": {},
     "output_type": "execute_result"
    }
   ],
   "source": [
    "collection_gold.insert_many(gold_dict)"
   ]
  },
  {
   "cell_type": "code",
   "execution_count": 15,
   "metadata": {},
   "outputs": [],
   "source": [
    "gspc_data = \"resources/GSPC.csv\""
   ]
  },
  {
   "cell_type": "code",
   "execution_count": 16,
   "metadata": {},
   "outputs": [],
   "source": [
    "gspc_df = pd.read_csv(gspc_data)"
   ]
  },
  {
   "cell_type": "code",
   "execution_count": 18,
   "metadata": {},
   "outputs": [
    {
     "data": {
      "text/html": [
       "<div>\n",
       "<style scoped>\n",
       "    .dataframe tbody tr th:only-of-type {\n",
       "        vertical-align: middle;\n",
       "    }\n",
       "\n",
       "    .dataframe tbody tr th {\n",
       "        vertical-align: top;\n",
       "    }\n",
       "\n",
       "    .dataframe thead th {\n",
       "        text-align: right;\n",
       "    }\n",
       "</style>\n",
       "<table border=\"1\" class=\"dataframe\">\n",
       "  <thead>\n",
       "    <tr style=\"text-align: right;\">\n",
       "      <th></th>\n",
       "      <th>Date</th>\n",
       "      <th>Open</th>\n",
       "      <th>High</th>\n",
       "      <th>Low</th>\n",
       "      <th>Close</th>\n",
       "      <th>Adj Close</th>\n",
       "      <th>Volume</th>\n",
       "    </tr>\n",
       "  </thead>\n",
       "  <tbody>\n",
       "    <tr>\n",
       "      <th>0</th>\n",
       "      <td>1996-01-01</td>\n",
       "      <td>615.929993</td>\n",
       "      <td>636.179993</td>\n",
       "      <td>597.289978</td>\n",
       "      <td>636.020020</td>\n",
       "      <td>636.020020</td>\n",
       "      <td>9188050000</td>\n",
       "    </tr>\n",
       "    <tr>\n",
       "      <th>1</th>\n",
       "      <td>1996-02-01</td>\n",
       "      <td>636.020020</td>\n",
       "      <td>664.229980</td>\n",
       "      <td>633.710022</td>\n",
       "      <td>640.429993</td>\n",
       "      <td>640.429993</td>\n",
       "      <td>8749960000</td>\n",
       "    </tr>\n",
       "    <tr>\n",
       "      <th>2</th>\n",
       "      <td>1996-03-01</td>\n",
       "      <td>640.429993</td>\n",
       "      <td>656.969971</td>\n",
       "      <td>627.630005</td>\n",
       "      <td>645.500000</td>\n",
       "      <td>645.500000</td>\n",
       "      <td>8984200000</td>\n",
       "    </tr>\n",
       "    <tr>\n",
       "      <th>3</th>\n",
       "      <td>1996-04-01</td>\n",
       "      <td>645.500000</td>\n",
       "      <td>656.679993</td>\n",
       "      <td>624.140015</td>\n",
       "      <td>654.169983</td>\n",
       "      <td>654.169983</td>\n",
       "      <td>8875580000</td>\n",
       "    </tr>\n",
       "    <tr>\n",
       "      <th>4</th>\n",
       "      <td>1996-05-01</td>\n",
       "      <td>654.169983</td>\n",
       "      <td>681.099976</td>\n",
       "      <td>630.070007</td>\n",
       "      <td>669.119995</td>\n",
       "      <td>669.119995</td>\n",
       "      <td>8921140000</td>\n",
       "    </tr>\n",
       "  </tbody>\n",
       "</table>\n",
       "</div>"
      ],
      "text/plain": [
       "         Date        Open        High         Low       Close   Adj Close  \\\n",
       "0  1996-01-01  615.929993  636.179993  597.289978  636.020020  636.020020   \n",
       "1  1996-02-01  636.020020  664.229980  633.710022  640.429993  640.429993   \n",
       "2  1996-03-01  640.429993  656.969971  627.630005  645.500000  645.500000   \n",
       "3  1996-04-01  645.500000  656.679993  624.140015  654.169983  654.169983   \n",
       "4  1996-05-01  654.169983  681.099976  630.070007  669.119995  669.119995   \n",
       "\n",
       "       Volume  \n",
       "0  9188050000  \n",
       "1  8749960000  \n",
       "2  8984200000  \n",
       "3  8875580000  \n",
       "4  8921140000  "
      ]
     },
     "execution_count": 18,
     "metadata": {},
     "output_type": "execute_result"
    }
   ],
   "source": [
    "gspc_df.head()"
   ]
  },
  {
   "cell_type": "code",
   "execution_count": 19,
   "metadata": {},
   "outputs": [],
   "source": [
    "gspc_df['index'] = gspc_df.apply(lambda row:\"GSPC\",axis =1)"
   ]
  },
  {
   "cell_type": "code",
   "execution_count": 20,
   "metadata": {},
   "outputs": [
    {
     "data": {
      "text/html": [
       "<div>\n",
       "<style scoped>\n",
       "    .dataframe tbody tr th:only-of-type {\n",
       "        vertical-align: middle;\n",
       "    }\n",
       "\n",
       "    .dataframe tbody tr th {\n",
       "        vertical-align: top;\n",
       "    }\n",
       "\n",
       "    .dataframe thead th {\n",
       "        text-align: right;\n",
       "    }\n",
       "</style>\n",
       "<table border=\"1\" class=\"dataframe\">\n",
       "  <thead>\n",
       "    <tr style=\"text-align: right;\">\n",
       "      <th></th>\n",
       "      <th>Date</th>\n",
       "      <th>Open</th>\n",
       "      <th>High</th>\n",
       "      <th>Low</th>\n",
       "      <th>Close</th>\n",
       "      <th>Adj Close</th>\n",
       "      <th>Volume</th>\n",
       "      <th>index</th>\n",
       "    </tr>\n",
       "  </thead>\n",
       "  <tbody>\n",
       "    <tr>\n",
       "      <th>0</th>\n",
       "      <td>1996-01-01</td>\n",
       "      <td>615.929993</td>\n",
       "      <td>636.179993</td>\n",
       "      <td>597.289978</td>\n",
       "      <td>636.020020</td>\n",
       "      <td>636.020020</td>\n",
       "      <td>9188050000</td>\n",
       "      <td>GSPC</td>\n",
       "    </tr>\n",
       "    <tr>\n",
       "      <th>1</th>\n",
       "      <td>1996-02-01</td>\n",
       "      <td>636.020020</td>\n",
       "      <td>664.229980</td>\n",
       "      <td>633.710022</td>\n",
       "      <td>640.429993</td>\n",
       "      <td>640.429993</td>\n",
       "      <td>8749960000</td>\n",
       "      <td>GSPC</td>\n",
       "    </tr>\n",
       "    <tr>\n",
       "      <th>2</th>\n",
       "      <td>1996-03-01</td>\n",
       "      <td>640.429993</td>\n",
       "      <td>656.969971</td>\n",
       "      <td>627.630005</td>\n",
       "      <td>645.500000</td>\n",
       "      <td>645.500000</td>\n",
       "      <td>8984200000</td>\n",
       "      <td>GSPC</td>\n",
       "    </tr>\n",
       "    <tr>\n",
       "      <th>3</th>\n",
       "      <td>1996-04-01</td>\n",
       "      <td>645.500000</td>\n",
       "      <td>656.679993</td>\n",
       "      <td>624.140015</td>\n",
       "      <td>654.169983</td>\n",
       "      <td>654.169983</td>\n",
       "      <td>8875580000</td>\n",
       "      <td>GSPC</td>\n",
       "    </tr>\n",
       "    <tr>\n",
       "      <th>4</th>\n",
       "      <td>1996-05-01</td>\n",
       "      <td>654.169983</td>\n",
       "      <td>681.099976</td>\n",
       "      <td>630.070007</td>\n",
       "      <td>669.119995</td>\n",
       "      <td>669.119995</td>\n",
       "      <td>8921140000</td>\n",
       "      <td>GSPC</td>\n",
       "    </tr>\n",
       "  </tbody>\n",
       "</table>\n",
       "</div>"
      ],
      "text/plain": [
       "         Date        Open        High         Low       Close   Adj Close  \\\n",
       "0  1996-01-01  615.929993  636.179993  597.289978  636.020020  636.020020   \n",
       "1  1996-02-01  636.020020  664.229980  633.710022  640.429993  640.429993   \n",
       "2  1996-03-01  640.429993  656.969971  627.630005  645.500000  645.500000   \n",
       "3  1996-04-01  645.500000  656.679993  624.140015  654.169983  654.169983   \n",
       "4  1996-05-01  654.169983  681.099976  630.070007  669.119995  669.119995   \n",
       "\n",
       "       Volume index  \n",
       "0  9188050000  GSPC  \n",
       "1  8749960000  GSPC  \n",
       "2  8984200000  GSPC  \n",
       "3  8875580000  GSPC  \n",
       "4  8921140000  GSPC  "
      ]
     },
     "execution_count": 20,
     "metadata": {},
     "output_type": "execute_result"
    }
   ],
   "source": [
    "gspc_df.head()"
   ]
  },
  {
   "cell_type": "code",
   "execution_count": 21,
   "metadata": {},
   "outputs": [],
   "source": [
    "db2 = client.GSPC"
   ]
  },
  {
   "cell_type": "code",
   "execution_count": 22,
   "metadata": {},
   "outputs": [],
   "source": [
    "collection_gspc = db2.gspc_data"
   ]
  },
  {
   "cell_type": "code",
   "execution_count": 23,
   "metadata": {},
   "outputs": [
    {
     "data": {
      "text/plain": [
       "[{'Date': '1996-01-01',\n",
       "  'Open': 615.929993,\n",
       "  'High': 636.179993,\n",
       "  'Low': 597.289978,\n",
       "  'Close': 636.02002,\n",
       "  'Adj Close': 636.02002,\n",
       "  'Volume': 9188050000,\n",
       "  'index': 'GSPC'},\n",
       " {'Date': '1996-02-01',\n",
       "  'Open': 636.02002,\n",
       "  'High': 664.22998,\n",
       "  'Low': 633.710022,\n",
       "  'Close': 640.429993,\n",
       "  'Adj Close': 640.429993,\n",
       "  'Volume': 8749960000,\n",
       "  'index': 'GSPC'}]"
      ]
     },
     "execution_count": 23,
     "metadata": {},
     "output_type": "execute_result"
    }
   ],
   "source": [
    "gspc_dict = gspc_df.to_dict('records')\n",
    "gspc_dict[:2]"
   ]
  },
  {
   "cell_type": "code",
   "execution_count": 24,
   "metadata": {},
   "outputs": [
    {
     "data": {
      "text/plain": [
       "<pymongo.results.InsertManyResult at 0x7f832da886e0>"
      ]
     },
     "execution_count": 24,
     "metadata": {},
     "output_type": "execute_result"
    }
   ],
   "source": [
    "collection_gspc.insert_many(gspc_dict)"
   ]
  },
  {
   "cell_type": "code",
   "execution_count": 25,
   "metadata": {},
   "outputs": [],
   "source": [
    "ixic_data = \"resources/IXIC.csv\""
   ]
  },
  {
   "cell_type": "code",
   "execution_count": 26,
   "metadata": {},
   "outputs": [],
   "source": [
    "ixic_df = pd.read_csv(ixic_data)"
   ]
  },
  {
   "cell_type": "code",
   "execution_count": 27,
   "metadata": {},
   "outputs": [
    {
     "data": {
      "text/html": [
       "<div>\n",
       "<style scoped>\n",
       "    .dataframe tbody tr th:only-of-type {\n",
       "        vertical-align: middle;\n",
       "    }\n",
       "\n",
       "    .dataframe tbody tr th {\n",
       "        vertical-align: top;\n",
       "    }\n",
       "\n",
       "    .dataframe thead th {\n",
       "        text-align: right;\n",
       "    }\n",
       "</style>\n",
       "<table border=\"1\" class=\"dataframe\">\n",
       "  <thead>\n",
       "    <tr style=\"text-align: right;\">\n",
       "      <th></th>\n",
       "      <th>Date</th>\n",
       "      <th>Open</th>\n",
       "      <th>High</th>\n",
       "      <th>Low</th>\n",
       "      <th>Close</th>\n",
       "      <th>Adj Close</th>\n",
       "      <th>Volume</th>\n",
       "    </tr>\n",
       "  </thead>\n",
       "  <tbody>\n",
       "    <tr>\n",
       "      <th>0</th>\n",
       "      <td>1996-01-01</td>\n",
       "      <td>1052.829956</td>\n",
       "      <td>1059.810059</td>\n",
       "      <td>977.789978</td>\n",
       "      <td>1059.790039</td>\n",
       "      <td>1059.790039</td>\n",
       "      <td>11326210000</td>\n",
       "    </tr>\n",
       "    <tr>\n",
       "      <th>1</th>\n",
       "      <td>1996-02-01</td>\n",
       "      <td>1058.260010</td>\n",
       "      <td>1121.890015</td>\n",
       "      <td>1057.819946</td>\n",
       "      <td>1100.050049</td>\n",
       "      <td>1100.050049</td>\n",
       "      <td>10690430000</td>\n",
       "    </tr>\n",
       "    <tr>\n",
       "      <th>2</th>\n",
       "      <td>1996-03-01</td>\n",
       "      <td>1098.939941</td>\n",
       "      <td>1119.839966</td>\n",
       "      <td>1057.869995</td>\n",
       "      <td>1101.400024</td>\n",
       "      <td>1101.400024</td>\n",
       "      <td>10648850000</td>\n",
       "    </tr>\n",
       "    <tr>\n",
       "      <th>3</th>\n",
       "      <td>1996-04-01</td>\n",
       "      <td>1105.770020</td>\n",
       "      <td>1190.869995</td>\n",
       "      <td>1092.439941</td>\n",
       "      <td>1190.520020</td>\n",
       "      <td>1190.520020</td>\n",
       "      <td>11951730000</td>\n",
       "    </tr>\n",
       "    <tr>\n",
       "      <th>4</th>\n",
       "      <td>1996-05-01</td>\n",
       "      <td>1190.479980</td>\n",
       "      <td>1252.810059</td>\n",
       "      <td>1163.209961</td>\n",
       "      <td>1243.430054</td>\n",
       "      <td>1243.430054</td>\n",
       "      <td>14550600000</td>\n",
       "    </tr>\n",
       "  </tbody>\n",
       "</table>\n",
       "</div>"
      ],
      "text/plain": [
       "         Date         Open         High          Low        Close  \\\n",
       "0  1996-01-01  1052.829956  1059.810059   977.789978  1059.790039   \n",
       "1  1996-02-01  1058.260010  1121.890015  1057.819946  1100.050049   \n",
       "2  1996-03-01  1098.939941  1119.839966  1057.869995  1101.400024   \n",
       "3  1996-04-01  1105.770020  1190.869995  1092.439941  1190.520020   \n",
       "4  1996-05-01  1190.479980  1252.810059  1163.209961  1243.430054   \n",
       "\n",
       "     Adj Close       Volume  \n",
       "0  1059.790039  11326210000  \n",
       "1  1100.050049  10690430000  \n",
       "2  1101.400024  10648850000  \n",
       "3  1190.520020  11951730000  \n",
       "4  1243.430054  14550600000  "
      ]
     },
     "execution_count": 27,
     "metadata": {},
     "output_type": "execute_result"
    }
   ],
   "source": [
    "ixic_df.head()"
   ]
  },
  {
   "cell_type": "code",
   "execution_count": 28,
   "metadata": {},
   "outputs": [],
   "source": [
    "ixic_df['index'] = ixic_df.apply(lambda row:\"IXIC\",axis =1)"
   ]
  },
  {
   "cell_type": "code",
   "execution_count": 29,
   "metadata": {},
   "outputs": [
    {
     "data": {
      "text/html": [
       "<div>\n",
       "<style scoped>\n",
       "    .dataframe tbody tr th:only-of-type {\n",
       "        vertical-align: middle;\n",
       "    }\n",
       "\n",
       "    .dataframe tbody tr th {\n",
       "        vertical-align: top;\n",
       "    }\n",
       "\n",
       "    .dataframe thead th {\n",
       "        text-align: right;\n",
       "    }\n",
       "</style>\n",
       "<table border=\"1\" class=\"dataframe\">\n",
       "  <thead>\n",
       "    <tr style=\"text-align: right;\">\n",
       "      <th></th>\n",
       "      <th>Date</th>\n",
       "      <th>Open</th>\n",
       "      <th>High</th>\n",
       "      <th>Low</th>\n",
       "      <th>Close</th>\n",
       "      <th>Adj Close</th>\n",
       "      <th>Volume</th>\n",
       "      <th>index</th>\n",
       "    </tr>\n",
       "  </thead>\n",
       "  <tbody>\n",
       "    <tr>\n",
       "      <th>0</th>\n",
       "      <td>1996-01-01</td>\n",
       "      <td>1052.829956</td>\n",
       "      <td>1059.810059</td>\n",
       "      <td>977.789978</td>\n",
       "      <td>1059.790039</td>\n",
       "      <td>1059.790039</td>\n",
       "      <td>11326210000</td>\n",
       "      <td>IXIC</td>\n",
       "    </tr>\n",
       "    <tr>\n",
       "      <th>1</th>\n",
       "      <td>1996-02-01</td>\n",
       "      <td>1058.260010</td>\n",
       "      <td>1121.890015</td>\n",
       "      <td>1057.819946</td>\n",
       "      <td>1100.050049</td>\n",
       "      <td>1100.050049</td>\n",
       "      <td>10690430000</td>\n",
       "      <td>IXIC</td>\n",
       "    </tr>\n",
       "    <tr>\n",
       "      <th>2</th>\n",
       "      <td>1996-03-01</td>\n",
       "      <td>1098.939941</td>\n",
       "      <td>1119.839966</td>\n",
       "      <td>1057.869995</td>\n",
       "      <td>1101.400024</td>\n",
       "      <td>1101.400024</td>\n",
       "      <td>10648850000</td>\n",
       "      <td>IXIC</td>\n",
       "    </tr>\n",
       "    <tr>\n",
       "      <th>3</th>\n",
       "      <td>1996-04-01</td>\n",
       "      <td>1105.770020</td>\n",
       "      <td>1190.869995</td>\n",
       "      <td>1092.439941</td>\n",
       "      <td>1190.520020</td>\n",
       "      <td>1190.520020</td>\n",
       "      <td>11951730000</td>\n",
       "      <td>IXIC</td>\n",
       "    </tr>\n",
       "    <tr>\n",
       "      <th>4</th>\n",
       "      <td>1996-05-01</td>\n",
       "      <td>1190.479980</td>\n",
       "      <td>1252.810059</td>\n",
       "      <td>1163.209961</td>\n",
       "      <td>1243.430054</td>\n",
       "      <td>1243.430054</td>\n",
       "      <td>14550600000</td>\n",
       "      <td>IXIC</td>\n",
       "    </tr>\n",
       "  </tbody>\n",
       "</table>\n",
       "</div>"
      ],
      "text/plain": [
       "         Date         Open         High          Low        Close  \\\n",
       "0  1996-01-01  1052.829956  1059.810059   977.789978  1059.790039   \n",
       "1  1996-02-01  1058.260010  1121.890015  1057.819946  1100.050049   \n",
       "2  1996-03-01  1098.939941  1119.839966  1057.869995  1101.400024   \n",
       "3  1996-04-01  1105.770020  1190.869995  1092.439941  1190.520020   \n",
       "4  1996-05-01  1190.479980  1252.810059  1163.209961  1243.430054   \n",
       "\n",
       "     Adj Close       Volume index  \n",
       "0  1059.790039  11326210000  IXIC  \n",
       "1  1100.050049  10690430000  IXIC  \n",
       "2  1101.400024  10648850000  IXIC  \n",
       "3  1190.520020  11951730000  IXIC  \n",
       "4  1243.430054  14550600000  IXIC  "
      ]
     },
     "execution_count": 29,
     "metadata": {},
     "output_type": "execute_result"
    }
   ],
   "source": [
    "ixic_df.head()"
   ]
  },
  {
   "cell_type": "code",
   "execution_count": 30,
   "metadata": {},
   "outputs": [],
   "source": [
    "db3 = client.IXIC"
   ]
  },
  {
   "cell_type": "code",
   "execution_count": 31,
   "metadata": {},
   "outputs": [],
   "source": [
    "collection_ixic = db3.ixic_data"
   ]
  },
  {
   "cell_type": "code",
   "execution_count": 32,
   "metadata": {},
   "outputs": [
    {
     "data": {
      "text/plain": [
       "[{'Date': '1996-01-01',\n",
       "  'Open': 1052.829956,\n",
       "  'High': 1059.810059,\n",
       "  'Low': 977.7899779999999,\n",
       "  'Close': 1059.790039,\n",
       "  'Adj Close': 1059.790039,\n",
       "  'Volume': 11326210000,\n",
       "  'index': 'IXIC'},\n",
       " {'Date': '1996-02-01',\n",
       "  'Open': 1058.26001,\n",
       "  'High': 1121.890015,\n",
       "  'Low': 1057.819946,\n",
       "  'Close': 1100.050049,\n",
       "  'Adj Close': 1100.050049,\n",
       "  'Volume': 10690430000,\n",
       "  'index': 'IXIC'}]"
      ]
     },
     "execution_count": 32,
     "metadata": {},
     "output_type": "execute_result"
    }
   ],
   "source": [
    "ixic_dict = ixic_df.to_dict('records')\n",
    "ixic_dict[:2]"
   ]
  },
  {
   "cell_type": "code",
   "execution_count": 33,
   "metadata": {},
   "outputs": [
    {
     "data": {
      "text/plain": [
       "<pymongo.results.InsertManyResult at 0x7f832dc83230>"
      ]
     },
     "execution_count": 33,
     "metadata": {},
     "output_type": "execute_result"
    }
   ],
   "source": [
    "collection_ixic.insert_many(ixic_dict)"
   ]
  },
  {
   "cell_type": "code",
   "execution_count": null,
   "metadata": {},
   "outputs": [],
   "source": []
  }
 ],
 "metadata": {
  "kernelspec": {
   "display_name": "Python 3",
   "language": "python",
   "name": "python3"
  },
  "language_info": {
   "codemirror_mode": {
    "name": "ipython",
    "version": 3
   },
   "file_extension": ".py",
   "mimetype": "text/x-python",
   "name": "python",
   "nbconvert_exporter": "python",
   "pygments_lexer": "ipython3",
   "version": "3.7.6"
  }
 },
 "nbformat": 4,
 "nbformat_minor": 4
}
